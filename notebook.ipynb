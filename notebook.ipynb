{
 "cells": [
  {
   "metadata": {
    "ExecuteTime": {
     "end_time": "2024-12-09T16:11:01.308504Z",
     "start_time": "2024-12-09T16:10:57.490206Z"
    }
   },
   "cell_type": "code",
   "source": [
    "from dotenv import load_dotenv\n",
    "from langchain.callbacks import StreamingStdOutCallbackHandler\n",
    "from langchain.chat_models import ChatOpenAI\n",
    "from langchain.prompts import ChatPromptTemplate\n",
    "\n",
    "load_dotenv()\n",
    "\n",
    "chat = ChatOpenAI(\n",
    "    temperature=0.1,\n",
    "    streaming=True,\n",
    "    callbacks=[\n",
    "        StreamingStdOutCallbackHandler()\n",
    "    ])\n",
    "\n",
    "poem_prompt = ChatPromptTemplate.from_messages(\n",
    "    [\n",
    "        (\n",
    "            \"system\",\n",
    "            \"You are a poetic programmer, crafting verses about programming languages. Blend technical accuracy with artistic expression, bringing code to life through rhythm and rhyme. Create poems in various styles, using coding syntax creatively. Capture each language’s unique characteristics and incorporate metaphors relating programming to everyday life. Balance technical accuracy with poetic beauty, tailoring the tone to match the language’s culture. Include references to famous developers or key moments. Use clever wordplay and formatting to enhance appeal. Conclude with a thought-provoking line about the language’s impact. Your goal: celebrate programming through poetry that resonates with both experts and novices.\",\n",
    "        ),\n",
    "        (\"human\", \"I’d like to hear a poem about {language}.\"),\n",
    "    ]\n",
    ")\n",
    "poem_chain = poem_prompt | chat\n",
    "\n",
    "explanation_prompt = ChatPromptTemplate.from_messages(\n",
    "    [\n",
    "        (\n",
    "            \"system\",\n",
    "            \"You are a concise summarizer. Distill complex information into clear, brief summaries. Capture key points, maintain accuracy, and convey the essence in minimal words. Adapt tone to content. Prioritize clarity and relevance. Avoid unnecessary details or repetition.\"\n",
    "        ),\n",
    "        \"human\", \"Please summarize {poem} poem.\"\n",
    "    ]\n",
    ")\n",
    "explanation_chain = explanation_prompt | chat\n",
    "\n",
    "final_chain = {\"poem\": poem_chain} | explanation_chain\n",
    "final_chain.invoke({\"language\": \"python\"})\n"
   ],
   "id": "296bf9c2542e5a22",
   "outputs": [
    {
     "name": "stdout",
     "output_type": "stream",
     "text": [
      "In the land of Python, where whitespace reigns,\n",
      "Elegant and simple, it breaks no chains.\n",
      "Indentation is key, in this world so clean,\n",
      "Where readability shines, like a serene dream.\n",
      "\n",
      "Guido van Rossum, the creator divine,\n",
      "Crafted a language, where code does align.\n",
      "With libraries vast, like a starlit sky,\n",
      "Python soars high, as eagles fly.\n",
      "\n",
      "From web apps to AI, it does it all,\n",
      "With syntax so clear, it stands tall.\n",
      "List comprehensions, like magic spells,\n",
      "In Python’s realm, where logic dwells.\n",
      "\n",
      "So let us embrace, this language so bright,\n",
      "Python’s beauty, a true delight.\n",
      "In the realm of code, it leaves a mark,\n",
      "A language so powerful, lighting the dark.\n",
      "\n",
      "Python whispers softly, in the coder’s ear,\n",
      "“Simplicity and power, have no fear.”\n",
      "So let us write, with joy and might,\n",
      "In Python’s embrace, our future is bright.Summary: The poem praises Python for its simplicity, readability, and versatility in various applications like web development and AI. It highlights Guido van Rossum as the creator and emphasizes Python's elegance and power in coding. Python's clear syntax, libraries, and list comprehensions are likened to magic, making it a powerful and user-friendly language for programmers. The poem encourages embracing Python for its beauty and effectiveness in illuminating the coding world."
     ]
    },
    {
     "data": {
      "text/plain": [
       "AIMessageChunk(content=\"Summary: The poem praises Python for its simplicity, readability, and versatility in various applications like web development and AI. It highlights Guido van Rossum as the creator and emphasizes Python's elegance and power in coding. Python's clear syntax, libraries, and list comprehensions are likened to magic, making it a powerful and user-friendly language for programmers. The poem encourages embracing Python for its beauty and effectiveness in illuminating the coding world.\")"
      ]
     },
     "execution_count": 1,
     "metadata": {},
     "output_type": "execute_result"
    }
   ],
   "execution_count": 1
  }
 ],
 "metadata": {
  "kernelspec": {
   "display_name": "Python 3",
   "language": "python",
   "name": "python3"
  },
  "language_info": {
   "codemirror_mode": {
    "name": "ipython",
    "version": 2
   },
   "file_extension": ".py",
   "mimetype": "text/x-python",
   "name": "python",
   "nbconvert_exporter": "python",
   "pygments_lexer": "ipython2",
   "version": "2.7.6"
  }
 },
 "nbformat": 4,
 "nbformat_minor": 5
}
