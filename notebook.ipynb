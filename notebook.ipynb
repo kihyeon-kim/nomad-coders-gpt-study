{
 "cells": [
  {
   "metadata": {
    "ExecuteTime": {
     "end_time": "2024-12-08T02:27:28.257964Z",
     "start_time": "2024-12-08T02:27:26.143945Z"
    }
   },
   "cell_type": "code",
   "outputs": [
    {
     "data": {
      "text/plain": [
       "('\\n\\nIt is not possible to determine the exact number of plants in the world as new species are constantly being discovered and some may become extinct. However, it is estimated that there are around 391,000 known species of plants.',\n",
       " \"I'm sorry, I cannot see the plants you are referring to. Can you please provide more information or context?\")"
      ]
     },
     "execution_count": 3,
     "metadata": {},
     "output_type": "execute_result"
    }
   ],
   "execution_count": 3,
   "source": [
    "from dotenv import load_dotenv\n",
    "\n",
    "from langchain.llms import OpenAI\n",
    "from langchain.chat_models import ChatOpenAI\n",
    "\n",
    "load_dotenv()\n",
    "\n",
    "llm = OpenAI(model=\"gpt-3.5-turbo-instruct\")\n",
    "chat = ChatOpenAI()\n",
    "\n",
    "a = llm.predict(\"How many plants are there?\")\n",
    "b = chat.predict(\"How many plants are there?\")\n",
    "\n",
    "a, b"
   ],
   "id": "88ca222e2f711a80"
  }
 ],
 "metadata": {
  "kernelspec": {
   "display_name": "Python 3",
   "language": "python",
   "name": "python3"
  },
  "language_info": {
   "codemirror_mode": {
    "name": "ipython",
    "version": 2
   },
   "file_extension": ".py",
   "mimetype": "text/x-python",
   "name": "python",
   "nbconvert_exporter": "python",
   "pygments_lexer": "ipython2",
   "version": "2.7.6"
  }
 },
 "nbformat": 4,
 "nbformat_minor": 5
}
