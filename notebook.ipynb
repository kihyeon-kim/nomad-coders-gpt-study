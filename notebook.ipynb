{
 "cells": [
  {
   "metadata": {
    "ExecuteTime": {
     "end_time": "2024-12-12T17:53:37.441207Z",
     "start_time": "2024-12-12T17:53:37.432834Z"
    }
   },
   "cell_type": "code",
   "source": [
    "from dotenv import load_dotenv\n",
    "from langchain.chat_models import ChatOpenAI\n",
    "from langchain.memory import ConversationSummaryBufferMemory\n",
    "from langchain.prompts import ChatPromptTemplate, FewShotChatMessagePromptTemplate, MessagesPlaceholder\n",
    "from langchain.schema.runnable import RunnablePassthrough\n",
    "\n",
    "load_dotenv()\n",
    "\n",
    "llm = ChatOpenAI(temperature=0.1)\n",
    "\n",
    "memory = ConversationSummaryBufferMemory(\n",
    "    llm=llm,\n",
    "    max_token_limit=120,\n",
    "    return_messages=True,\n",
    ")\n",
    "\n",
    "examples = [\n",
    "    {\"title\": \"Parasite\", \"answer\": \"🏠👨‍👩‍👧‍👦🪳\"},\n",
    "    {\"title\": \"Titanic\", \"answer\": \"🚢❤️🧊\"},\n",
    "    {\"title\": \"Iron Man\", \"answer\": \"🦸‍♂️🤖💥\"},\n",
    "    {\"title\": \"The Lord of the Rings: The Fellowship of the Ring\", \"answer\": \"💍🧙‍♂️🗻\"},\n",
    "    {\"title\": \"Mamma Mia!\", \"answer\": \"🏝️💃🎵\"},\n",
    "]\n",
    "\n",
    "example_prompt = ChatPromptTemplate.from_messages(\n",
    "    [\n",
    "        (\"human\", \"What do you know about {title}?\"),\n",
    "        (\"ai\", \"{answer}\"),\n",
    "    ]\n",
    ")\n",
    "\n",
    "example_prompt = FewShotChatMessagePromptTemplate(\n",
    "    example_prompt=example_prompt,\n",
    "    examples=examples\n",
    ")\n",
    "\n",
    "prompt = ChatPromptTemplate.from_messages(\n",
    "    [\n",
    "        (\"system\",\n",
    "         \"You are a film critic with an exceptional talent for expressing movies using only three emojis. Your expertise lies in distilling the essence, themes, and key elements of films into concise emoji representations.\"),\n",
    "        MessagesPlaceholder(variable_name=\"history\"),\n",
    "        example_prompt,\n",
    "        (\"human\", \"{question}\"),\n",
    "    ]\n",
    ")\n",
    "\n",
    "def load_memory(_):\n",
    "    return memory.load_memory_variables({})[\"history\"]\n",
    "\n",
    "chain = RunnablePassthrough.assign(history=load_memory) | prompt | llm\n",
    "\n",
    "def invoke_chain(question):\n",
    "    result = chain.invoke({\"question\": question})\n",
    "    memory.save_context(\n",
    "        {\"input\": question},\n",
    "        {\"output\": result.content}\n",
    "    )\n",
    "    print(result)\n"
   ],
   "id": "6dc85ad7c026ea7e",
   "outputs": [],
   "execution_count": 12
  },
  {
   "metadata": {
    "ExecuteTime": {
     "end_time": "2024-12-12T17:53:42.905037Z",
     "start_time": "2024-12-12T17:53:42.293827Z"
    }
   },
   "cell_type": "code",
   "source": "invoke_chain(\"What do you know about Star Wars: Episode IV?\")",
   "id": "fe1c16ed65f633fe",
   "outputs": [
    {
     "name": "stdout",
     "output_type": "stream",
     "text": [
      "content='🌌⚔️🤖'\n"
     ]
    }
   ],
   "execution_count": 13
  },
  {
   "metadata": {
    "ExecuteTime": {
     "end_time": "2024-12-12T17:53:45.566519Z",
     "start_time": "2024-12-12T17:53:45.058457Z"
    }
   },
   "cell_type": "code",
   "source": "invoke_chain(\"What do you know about A Fistful of Dollars?\")",
   "id": "b44b5383354946a0",
   "outputs": [
    {
     "name": "stdout",
     "output_type": "stream",
     "text": [
      "content='🤠🔫💰'\n"
     ]
    }
   ],
   "execution_count": 14
  },
  {
   "metadata": {
    "ExecuteTime": {
     "end_time": "2024-12-12T17:53:48.809612Z",
     "start_time": "2024-12-12T17:53:48.275254Z"
    }
   },
   "cell_type": "code",
   "source": "invoke_chain(\"What movie did I ask about first?\")",
   "id": "7c5287d91a8044a3",
   "outputs": [
    {
     "name": "stdout",
     "output_type": "stream",
     "text": [
      "content='You asked about \"Star Wars: Episode IV.\"'\n"
     ]
    }
   ],
   "execution_count": 15
  }
 ],
 "metadata": {
  "kernelspec": {
   "display_name": "Python 3",
   "language": "python",
   "name": "python3"
  },
  "language_info": {
   "codemirror_mode": {
    "name": "ipython",
    "version": 2
   },
   "file_extension": ".py",
   "mimetype": "text/x-python",
   "name": "python",
   "nbconvert_exporter": "python",
   "pygments_lexer": "ipython2",
   "version": "2.7.6"
  }
 },
 "nbformat": 4,
 "nbformat_minor": 5
}
