{
 "cells": [
  {
   "metadata": {
    "ExecuteTime": {
     "end_time": "2024-12-10T16:03:21.988934Z",
     "start_time": "2024-12-10T16:03:19.801273Z"
    }
   },
   "cell_type": "code",
   "source": [
    "from dotenv import load_dotenv\n",
    "from langchain.callbacks import StreamingStdOutCallbackHandler\n",
    "from langchain.chat_models import ChatOpenAI\n",
    "from langchain.prompts import ChatPromptTemplate, FewShotChatMessagePromptTemplate\n",
    "\n",
    "load_dotenv()\n",
    "\n",
    "chat = ChatOpenAI(\n",
    "    temperature=0.1,\n",
    "    streaming=True,\n",
    "    callbacks=[\n",
    "        StreamingStdOutCallbackHandler()\n",
    "    ]\n",
    ")\n",
    "\n",
    "examples = [\n",
    "    {\n",
    "        \"title\": \"Parasite\",\n",
    "        \"answer\": {\n",
    "            \"director\": \"Bong Joon-ho\",\n",
    "            \"main_cast\": \"Song Kang-ho, Lee Sun-kyun, Cho Yeo-jeong, Choi Woo-shik, Park So-dam\",\n",
    "            \"budget\": \"13.5 billion KRW (approximately $11.4 million USD)\",\n",
    "            \"box_office_revenue\": \"$257.55 million USD worldwide (approximately 309 billion KRW)\",\n",
    "            \"genre\": \"Black comedy thriller\",\n",
    "            \"brief_synopsis\": \"The film follows the unemployed Kim family, whose son Ki-woo (Choi Woo-shik) gets a job as a high-paid tutor for the wealthy Park family. This initial encounter between the two families sets off a series of unpredictable events. The movie sharply satirizes class disparity and social inequality, captivating audiences with its unexpected twists and turns.\",\n",
    "        }\n",
    "    },\n",
    "    {\n",
    "        \"title\": \"Titanic\",\n",
    "        \"answer\": {\n",
    "            \"director\": \"James Cameron\",\n",
    "            \"main_cast\": \"Leonardo DiCaprio, Kate Winslet, Billy Zane, Kathy Bates, Gloria Stuart\",\n",
    "            \"budget\": \"$200 million\",\n",
    "            \"box_office_revenue\": \"$2.264 billion worldwide\",\n",
    "            \"genre\": \"Epic romantic disaster film\",\n",
    "            \"brief_synopsis\": \"Set against the backdrop of the ill-fated maiden voyage of the RMS Titanic in 1912, the film follows the forbidden romance between Rose DeWitt Bukater (Kate Winslet), a young aristocrat, and Jack Dawson (Leonardo DiCaprio), a poor artist. As their love blossoms across class boundaries, the ship meets its tragic fate, testing their relationship and survival. The movie intertwines this fictional love story with the historical disaster, offering a poignant exploration of human emotions amidst catastrophe.\"\n",
    "        },\n",
    "    },\n",
    "    {\n",
    "        \"title\": \"Iron Man\",\n",
    "        \"answer\": {\n",
    "            \"director\": \"Jon Favreau\",\n",
    "            \"main_cast\": \"Robert Downey Jr., Gwyneth Paltrow, Terrence Howard, Jeff Bridges\",\n",
    "            \"budget\": \"$130–140 million\",\n",
    "            \"box_office_revenue\": \"$585.8 million worldwide\",\n",
    "            \"genre\": \"Superhero film\",\n",
    "            \"brief_synopsis\": \"Tony Stark, a billionaire industrialist and genius inventor, is kidnapped and forced to build a devastating weapon. Instead, he uses his intelligence to create a high-tech suit of armor and escapes captivity. Upon discovering a nefarious plot with global implications, Stark dons his powerful armor and vows to protect the world as Iron Man. The film follows his journey from a self-centered weapons manufacturer to a heroic figure, battling against those who would use his technology for evil.\"\n",
    "        },\n",
    "    },\n",
    "    {\n",
    "        \"title\": \"The Lord of the Rings: The Fellowship of the Ring\",\n",
    "        \"answer\": {\n",
    "            \"director\": \"Peter Jackson\",\n",
    "            \"main_cast\": \"Elijah Wood, Ian McKellen, Liv Tyler, Viggo Mortensen, Sean Astin, Cate Blanchett, Orlando Bloom\",\n",
    "            \"budget\": \"$93 million\",\n",
    "            \"box_office_revenue\": \"$888.2 million worldwide\",\n",
    "            \"genre\": \"Epic high fantasy adventure\",\n",
    "            \"brief_synopsis\": \"Set in Middle-earth, the story follows Frodo Baggins, a young hobbit who inherits a seemingly innocent ring from his cousin Bilbo. However, the ring is actually the One Ring of the Dark Lord Sauron, who seeks its return to regain his power. Frodo must embark on a perilous journey with eight companions, forming the Fellowship of the Ring, to destroy the ring in the fires of Mount Doom in Mordor. The fate of Middle-earth hangs in the balance as they face numerous challenges and enemies along their quest.\"\n",
    "        },\n",
    "    },\n",
    "    {\n",
    "        \"title\": \"Mamma Mia!\",\n",
    "        \"answer\": {\n",
    "            \"director\": \"Phyllida Lloyd\",\n",
    "            \"main_cast\": \"Meryl Streep, Amanda Seyfried, Pierce Brosnan, Colin Firth, Stellan Skarsgård\",\n",
    "            \"budget\": \"$52 million\",\n",
    "            \"box_office_revenue\": \"$584,481,736 worldwide\",\n",
    "            \"genre\": \"Jukebox musical romantic comedy\",\n",
    "            \"brief_synopsis\": \"Set on a fictional Greek island, Sophie, a bride-to-be, invites three men from her mother Donna's past to her wedding, believing one of them is her father. As the wedding approaches, Donna reunites with her old friends Tanya and Rosie, while confronting her former lovers. The story unfolds through ABBA's hit songs, exploring themes of love, friendship, and self-discovery. Sophie's quest to find her real father leads to unexpected revelations and heartwarming moments, culminating in a joyous celebration of life and love.\"\n",
    "        },\n",
    "    }\n",
    "]\n",
    "\n",
    "example_prompt = ChatPromptTemplate.from_messages(\n",
    "    [\n",
    "        (\"human\", \"What do you know about {title}?\"),\n",
    "        (\"ai\", \"{answer}\"),\n",
    "    ]\n",
    ")\n",
    "\n",
    "example_prompt = FewShotChatMessagePromptTemplate(\n",
    "    example_prompt=example_prompt,\n",
    "    examples=examples\n",
    ")\n",
    "\n",
    "final_prompt = ChatPromptTemplate.from_messages(\n",
    "    [\n",
    "        (\"system\",\n",
    "         \"As a film critic, You specialize in analyzing cinematic works across genres and eras. You give short answers.\"),\n",
    "        example_prompt,\n",
    "        (\"human\", \"What do you know about {title}?\"),\n",
    "    ]\n",
    ")\n",
    "\n",
    "chain = final_prompt | chat\n",
    "\n",
    "chain.invoke({\"title\": \"Star Wars: Episode IV\"})\n"
   ],
   "id": "296bf9c2542e5a22",
   "outputs": [
    {
     "name": "stdout",
     "output_type": "stream",
     "text": [
      "{'director': 'George Lucas', 'main_cast': 'Mark Hamill, Harrison Ford, Carrie Fisher, Alec Guinness, Peter Cushing', 'budget': '$11 million', 'box_office_revenue': '$775.8 million worldwide', 'genre': 'Science fiction space opera', 'brief_synopsis': 'Released in 1977, \"Star Wars: Episode IV - A New Hope\" is the first installment in the original Star Wars trilogy. The film follows Luke Skywalker, a young farm boy, who joins forces with Princess Leia, Han Solo, and the Jedi Obi-Wan Kenobi to battle the evil Galactic Empire and its enforcer Darth Vader. Together, they aim to destroy the Empire's planet-destroying weapon, the Death Star, and restore peace to the galaxy. The movie revolutionized the sci-fi genre, introducing iconic characters, groundbreaking special effects, and a timeless story of heroism and rebellion.'}"
     ]
    },
    {
     "data": {
      "text/plain": [
       "AIMessageChunk(content='{\\'director\\': \\'George Lucas\\', \\'main_cast\\': \\'Mark Hamill, Harrison Ford, Carrie Fisher, Alec Guinness, Peter Cushing\\', \\'budget\\': \\'$11 million\\', \\'box_office_revenue\\': \\'$775.8 million worldwide\\', \\'genre\\': \\'Science fiction space opera\\', \\'brief_synopsis\\': \\'Released in 1977, \"Star Wars: Episode IV - A New Hope\" is the first installment in the original Star Wars trilogy. The film follows Luke Skywalker, a young farm boy, who joins forces with Princess Leia, Han Solo, and the Jedi Obi-Wan Kenobi to battle the evil Galactic Empire and its enforcer Darth Vader. Together, they aim to destroy the Empire\\'s planet-destroying weapon, the Death Star, and restore peace to the galaxy. The movie revolutionized the sci-fi genre, introducing iconic characters, groundbreaking special effects, and a timeless story of heroism and rebellion.\\'}')"
      ]
     },
     "execution_count": 5,
     "metadata": {},
     "output_type": "execute_result"
    }
   ],
   "execution_count": 5
  }
 ],
 "metadata": {
  "kernelspec": {
   "display_name": "Python 3",
   "language": "python",
   "name": "python3"
  },
  "language_info": {
   "codemirror_mode": {
    "name": "ipython",
    "version": 2
   },
   "file_extension": ".py",
   "mimetype": "text/x-python",
   "name": "python",
   "nbconvert_exporter": "python",
   "pygments_lexer": "ipython2",
   "version": "2.7.6"
  }
 },
 "nbformat": 4,
 "nbformat_minor": 5
}
